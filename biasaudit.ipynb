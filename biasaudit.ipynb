{
 "cells": [
  {
   "cell_type": "code",
   "execution_count": 1,
   "id": "8d7f448e",
   "metadata": {},
   "outputs": [
    {
     "data": {
      "text/html": [
       "<div>\n",
       "<style scoped>\n",
       "    .dataframe tbody tr th:only-of-type {\n",
       "        vertical-align: middle;\n",
       "    }\n",
       "\n",
       "    .dataframe tbody tr th {\n",
       "        vertical-align: top;\n",
       "    }\n",
       "\n",
       "    .dataframe thead th {\n",
       "        text-align: right;\n",
       "    }\n",
       "</style>\n",
       "<table border=\"1\" class=\"dataframe\">\n",
       "  <thead>\n",
       "    <tr style=\"text-align: right;\">\n",
       "      <th></th>\n",
       "      <th>age</th>\n",
       "      <th>workclass</th>\n",
       "      <th>fnlwgt</th>\n",
       "      <th>education</th>\n",
       "      <th>education-num</th>\n",
       "      <th>marital-status</th>\n",
       "      <th>occupation</th>\n",
       "      <th>relationship</th>\n",
       "      <th>race</th>\n",
       "      <th>sex</th>\n",
       "      <th>capital-gain</th>\n",
       "      <th>capital-loss</th>\n",
       "      <th>hours-per-week</th>\n",
       "      <th>native-country</th>\n",
       "      <th>income</th>\n",
       "    </tr>\n",
       "  </thead>\n",
       "  <tbody>\n",
       "  </tbody>\n",
       "</table>\n",
       "</div>"
      ],
      "text/plain": [
       "Empty DataFrame\n",
       "Columns: [age, workclass, fnlwgt, education, education-num, marital-status, occupation, relationship, race, sex, capital-gain, capital-loss, hours-per-week, native-country, income]\n",
       "Index: []"
      ]
     },
     "execution_count": 1,
     "metadata": {},
     "output_type": "execute_result"
    }
   ],
   "source": [
    "import pandas as pd\n",
    "\n",
    "# Column names based on the UCI dataset documentation\n",
    "column_names = [\n",
    "    'age', 'workclass', 'fnlwgt', 'education', 'education-num',\n",
    "    'marital-status', 'occupation', 'relationship', 'race', 'sex',\n",
    "    'capital-gain', 'capital-loss', 'hours-per-week', 'native-country', 'income'\n",
    "]\n",
    "\n",
    "# Load the dataset\n",
    "df = pd.read_csv(\"data/adult.csv\", header=None, names=column_names, na_values=' ?')\n",
    "\n",
    "# Display the first 5 rows\n",
    "df.head()\n"
   ]
  },
  {
   "cell_type": "code",
   "execution_count": 2,
   "id": "18fb945d",
   "metadata": {},
   "outputs": [
    {
     "name": "stdout",
     "output_type": "stream",
     "text": [
      "Original shape: (0, 15)\n",
      "After cleaning: (0, 15)\n"
     ]
    }
   ],
   "source": [
    "# Drop rows with missing values\n",
    "df_clean = df.dropna()\n",
    "\n",
    "# Confirm the shape before and after\n",
    "print(f\"Original shape: {df.shape}\")\n",
    "print(f\"After cleaning: {df_clean.shape}\")\n"
   ]
  },
  {
   "cell_type": "code",
   "execution_count": 3,
   "id": "44944dce",
   "metadata": {},
   "outputs": [
    {
     "name": "stdout",
     "output_type": "stream",
     "text": [
      "Sex distribution:\n",
      "Series([], Name: count, dtype: int64)\n",
      "\n",
      "Race distribution:\n",
      "Series([], Name: count, dtype: int64)\n",
      "\n",
      "Income distribution:\n",
      "Series([], Name: count, dtype: int64)\n"
     ]
    }
   ],
   "source": [
    "# Count values for sensitive attributes\n",
    "print(\"Sex distribution:\")\n",
    "print(df_clean['sex'].value_counts())\n",
    "\n",
    "print(\"\\nRace distribution:\")\n",
    "print(df_clean['race'].value_counts())\n",
    "\n",
    "print(\"\\nIncome distribution:\")\n",
    "print(df_clean['income'].value_counts())\n"
   ]
  },
  {
   "cell_type": "code",
   "execution_count": 4,
   "id": "8cb3ede6",
   "metadata": {},
   "outputs": [
    {
     "name": "stderr",
     "output_type": "stream",
     "text": [
      "WARNING:root:No module named 'tensorflow': AdversarialDebiasing will be unavailable. To install, run:\n",
      "pip install 'aif360[AdversarialDebiasing]'\n",
      "WARNING:root:No module named 'tensorflow': AdversarialDebiasing will be unavailable. To install, run:\n",
      "pip install 'aif360[AdversarialDebiasing]'\n",
      "WARNING:root:No module named 'fairlearn': ExponentiatedGradientReduction will be unavailable. To install, run:\n",
      "pip install 'aif360[Reductions]'\n",
      "WARNING:root:No module named 'fairlearn': GridSearchReduction will be unavailable. To install, run:\n",
      "pip install 'aif360[Reductions]'\n",
      "WARNING:root:No module named 'inFairness': SenSeI and SenSR will be unavailable. To install, run:\n",
      "pip install 'aif360[inFairness]'\n",
      "WARNING:root:No module named 'fairlearn': GridSearchReduction will be unavailable. To install, run:\n",
      "pip install 'aif360[Reductions]'\n"
     ]
    }
   ],
   "source": [
    "from aif360.datasets import BinaryLabelDataset\n",
    "from aif360.metrics import BinaryLabelDatasetMetric, ClassificationMetric\n",
    "from sklearn.preprocessing import LabelEncoder\n",
    "\n",
    "# Encode binary labels: income and sex\n",
    "df_encoded = df_clean.copy()\n",
    "df_encoded['income'] = LabelEncoder().fit_transform(df_encoded['income'])  # 0 = <=50K, 1 = >50K\n",
    "df_encoded['sex'] = LabelEncoder().fit_transform(df_encoded['sex'])        # 0 = Female, 1 = Male\n",
    "\n",
    "# Define privileged and unprivileged groups\n",
    "privileged_groups = [{'sex': 1}]       # Male\n",
    "unprivileged_groups = [{'sex': 0}]     # Female\n",
    "\n",
    "# Convert to AIF360 BinaryLabelDataset\n",
    "dataset = BinaryLabelDataset(\n",
    "    df=df_encoded,\n",
    "    label_names=['income'],\n",
    "    protected_attribute_names=['sex']\n",
    ")\n"
   ]
  },
  {
   "cell_type": "code",
   "execution_count": 5,
   "id": "af10bd2d",
   "metadata": {},
   "outputs": [
    {
     "name": "stdout",
     "output_type": "stream",
     "text": [
      "Statistical Parity Difference: nan\n",
      "Disparate Impact: nan\n"
     ]
    },
    {
     "name": "stderr",
     "output_type": "stream",
     "text": [
      "c:\\Users\\CAPACITI-JHB\\Downloads\\bias-audit-report\\venv\\Lib\\site-packages\\aif360\\metrics\\binary_label_dataset_metric.py:105: RuntimeWarning: invalid value encountered in scalar divide\n",
      "  return (self.num_positives(privileged=privileged)\n"
     ]
    }
   ],
   "source": [
    "# Basic fairness metrics\n",
    "metric = BinaryLabelDatasetMetric(dataset, \n",
    "                                   privileged_groups=privileged_groups,\n",
    "                                   unprivileged_groups=unprivileged_groups)\n",
    "\n",
    "print(\"Statistical Parity Difference:\", metric.statistical_parity_difference())\n",
    "print(\"Disparate Impact:\", metric.disparate_impact())\n"
   ]
  },
  {
   "cell_type": "code",
   "execution_count": 6,
   "id": "91f2b724",
   "metadata": {},
   "outputs": [
    {
     "name": "stdout",
     "output_type": "stream",
     "text": [
      "After Reweighing:\n",
      "Statistical Parity Difference: nan\n",
      "Disparate Impact: nan\n"
     ]
    },
    {
     "name": "stderr",
     "output_type": "stream",
     "text": [
      "c:\\Users\\CAPACITI-JHB\\Downloads\\bias-audit-report\\venv\\Lib\\site-packages\\aif360\\algorithms\\preprocessing\\reweighing.py:66: RuntimeWarning: invalid value encountered in scalar divide\n",
      "  self.w_p_fav = n_fav*n_p / (n*n_p_fav)\n",
      "c:\\Users\\CAPACITI-JHB\\Downloads\\bias-audit-report\\venv\\Lib\\site-packages\\aif360\\algorithms\\preprocessing\\reweighing.py:67: RuntimeWarning: invalid value encountered in scalar divide\n",
      "  self.w_p_unfav = n_unfav*n_p / (n*n_p_unfav)\n",
      "c:\\Users\\CAPACITI-JHB\\Downloads\\bias-audit-report\\venv\\Lib\\site-packages\\aif360\\algorithms\\preprocessing\\reweighing.py:68: RuntimeWarning: invalid value encountered in scalar divide\n",
      "  self.w_up_fav = n_fav*n_up / (n*n_up_fav)\n",
      "c:\\Users\\CAPACITI-JHB\\Downloads\\bias-audit-report\\venv\\Lib\\site-packages\\aif360\\algorithms\\preprocessing\\reweighing.py:69: RuntimeWarning: invalid value encountered in scalar divide\n",
      "  self.w_up_unfav = n_unfav*n_up / (n*n_up_unfav)\n"
     ]
    }
   ],
   "source": [
    "from aif360.algorithms.preprocessing import Reweighing\n",
    "\n",
    "# Reweighing transforms the training dataset to reduce bias\n",
    "RW = Reweighing(unprivileged_groups=unprivileged_groups,\n",
    "                privileged_groups=privileged_groups)\n",
    "\n",
    "# Fit and transform the dataset\n",
    "reweighed_dataset = RW.fit_transform(dataset)\n",
    "\n",
    "# Let’s compare some metrics again\n",
    "metric_rw = BinaryLabelDatasetMetric(reweighed_dataset,\n",
    "                                     unprivileged_groups=unprivileged_groups,\n",
    "                                     privileged_groups=privileged_groups)\n",
    "\n",
    "print(\"After Reweighing:\")\n",
    "print(\"Statistical Parity Difference:\", metric_rw.statistical_parity_difference())\n",
    "print(\"Disparate Impact:\", metric_rw.disparate_impact())\n"
   ]
  },
  {
   "cell_type": "code",
   "execution_count": 7,
   "id": "53a0341d",
   "metadata": {},
   "outputs": [
    {
     "data": {
      "text/html": [
       "<div>\n",
       "<style scoped>\n",
       "    .dataframe tbody tr th:only-of-type {\n",
       "        vertical-align: middle;\n",
       "    }\n",
       "\n",
       "    .dataframe tbody tr th {\n",
       "        vertical-align: top;\n",
       "    }\n",
       "\n",
       "    .dataframe thead th {\n",
       "        text-align: right;\n",
       "    }\n",
       "</style>\n",
       "<table border=\"1\" class=\"dataframe\">\n",
       "  <thead>\n",
       "    <tr style=\"text-align: right;\">\n",
       "      <th></th>\n",
       "      <th>Metric</th>\n",
       "      <th>Before Mitigation</th>\n",
       "      <th>After Reweighing</th>\n",
       "    </tr>\n",
       "  </thead>\n",
       "  <tbody>\n",
       "    <tr>\n",
       "      <th>0</th>\n",
       "      <td>Statistical Parity Difference</td>\n",
       "      <td>NaN</td>\n",
       "      <td>NaN</td>\n",
       "    </tr>\n",
       "    <tr>\n",
       "      <th>1</th>\n",
       "      <td>Disparate Impact</td>\n",
       "      <td>NaN</td>\n",
       "      <td>NaN</td>\n",
       "    </tr>\n",
       "  </tbody>\n",
       "</table>\n",
       "</div>"
      ],
      "text/plain": [
       "                          Metric  Before Mitigation  After Reweighing\n",
       "0  Statistical Parity Difference                NaN               NaN\n",
       "1               Disparate Impact                NaN               NaN"
      ]
     },
     "execution_count": 7,
     "metadata": {},
     "output_type": "execute_result"
    }
   ],
   "source": [
    "# Compare original and reweighed metrics side-by-side\n",
    "comparison = pd.DataFrame({\n",
    "    \"Metric\": [\"Statistical Parity Difference\", \"Disparate Impact\"],\n",
    "    \"Before Mitigation\": [\n",
    "        metric.statistical_parity_difference(),\n",
    "        metric.disparate_impact()\n",
    "    ],\n",
    "    \"After Reweighing\": [\n",
    "        metric_rw.statistical_parity_difference(),\n",
    "        metric_rw.disparate_impact()\n",
    "    ]\n",
    "})\n",
    "\n",
    "comparison\n"
   ]
  },
  {
   "cell_type": "code",
   "execution_count": 8,
   "id": "ca4dffcd",
   "metadata": {},
   "outputs": [
    {
     "data": {
      "image/png": "[encoded data removed]",
      "text/plain": [
       "<Figure size 800x500 with 1 Axes>"
      ]
     },
     "metadata": {},
     "output_type": "display_data"
    }
   ],
   "source": [
    "import matplotlib.pyplot as plt\n",
    "\n",
    "# Bar chart comparison\n",
    "labels = [\"Statistical Parity\", \"Disparate Impact\"]\n",
    "before = [metric.statistical_parity_difference(), metric.disparate_impact()]\n",
    "after = [metric_rw.statistical_parity_difference(), metric_rw.disparate_impact()]\n",
    "\n",
    "x = range(len(labels))\n",
    "width = 0.35\n",
    "\n",
    "fig, ax = plt.subplots(figsize=(8,5))\n",
    "ax.bar(x, before, width, label='Before')\n",
    "ax.bar([i + width for i in x], after, width, label='After')\n",
    "\n",
    "ax.set_ylabel('Metric Value')\n",
    "ax.set_title('Fairness Metrics Before and After Reweighing')\n",
    "ax.set_xticks([i + width / 2 for i in x])\n",
    "ax.set_xticklabels(labels)\n",
    "ax.legend()\n",
    "plt.grid(True)\n",
    "plt.tight_layout()\n",
    "plt.show()\n"
   ]
  }
 ],
 "metadata": {
  "kernelspec": {
   "display_name": "venv",
   "language": "python",
   "name": "python3"
  },
  "language_info": {
   "codemirror_mode": {
    "name": "ipython",
    "version": 3
   },
   "file_extension": ".py",
   "mimetype": "text/x-python",
   "name": "python",
   "nbconvert_exporter": "python",
   "pygments_lexer": "ipython3",
   "version": "3.13.2"
  }
 },
 "nbformat": 4,
 "nbformat_minor": 5
}
